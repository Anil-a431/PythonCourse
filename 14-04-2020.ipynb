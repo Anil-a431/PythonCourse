{
 "cells": [
  {
   "cell_type": "markdown",
   "metadata": {},
   "source": [
    "### Binary Search\n",
    "- It can be applied on Unique List\n",
    "- It applied only on Sorted List"
   ]
  },
  {
   "cell_type": "code",
   "execution_count": 10,
   "metadata": {},
   "outputs": [
    {
     "name": "stdout",
     "output_type": "stream",
     "text": [
      "Not Found\n"
     ]
    }
   ],
   "source": [
    "# Define a function for Binary Search\n",
    "def binarySearch(li,tarItem):\n",
    "    leftIndex,rightIndex = 0 , len(li) - 1\n",
    "    while leftIndex <= rightIndex :\n",
    "        midIndex = leftIndex + (rightIndex-leftIndex)//2\n",
    "        if li[midIndex] == tarItem :\n",
    "            return midIndex\n",
    "        if li[midIndex] < tarItem :\n",
    "            leftIndex = midIndex + 1\n",
    "        else :\n",
    "            rightIndex = midIndex - 1\n",
    "    return -1\n",
    "li = [1,6,11,21,25,32,45,99]\n",
    "tarItem = 991\n",
    "res = binarySearch(li,tarItem)\n",
    "if res != -1:\n",
    "    print('Found')\n",
    "else:\n",
    "    print('Not Found')"
   ]
  },
  {
   "cell_type": "markdown",
   "metadata": {},
   "source": [
    "### Data Structure - Dict\n",
    "- Dict is also one of the common data structure in Python\n",
    "- Dict Object can store the data in Curly braces {}\n",
    "- Dict object is works based on **Key and value**\n",
    "- Dict Object seperates the value and Key by using Colon Symbol :\n",
    "- Dict keys should be unique always"
   ]
  },
  {
   "cell_type": "code",
   "execution_count": 3,
   "metadata": {},
   "outputs": [],
   "source": [
    "#d = {} #Empty Dict object\n",
    "d = {\"Name\":\"Dhyanahita\",\"mobile\" : 9988772211,\"Address\":\"Hyderabad\"}"
   ]
  },
  {
   "cell_type": "code",
   "execution_count": 4,
   "metadata": {},
   "outputs": [
    {
     "name": "stdout",
     "output_type": "stream",
     "text": [
      "{'Name': 'Dhyanahita', 'mobile': 9988772211, 'Address': 'Hyderabad'}\n"
     ]
    }
   ],
   "source": [
    "print(d)"
   ]
  },
  {
   "cell_type": "code",
   "execution_count": 5,
   "metadata": {},
   "outputs": [
    {
     "name": "stdout",
     "output_type": "stream",
     "text": [
      "Dhyanahita\n"
     ]
    }
   ],
   "source": [
    "print(d[\"Name\"])"
   ]
  },
  {
   "cell_type": "code",
   "execution_count": 6,
   "metadata": {},
   "outputs": [
    {
     "ename": "KeyError",
     "evalue": "'name'",
     "output_type": "error",
     "traceback": [
      "\u001b[1;31m---------------------------------------------------------------------------\u001b[0m",
      "\u001b[1;31mKeyError\u001b[0m                                  Traceback (most recent call last)",
      "\u001b[1;32m<ipython-input-6-866f59f378dc>\u001b[0m in \u001b[0;36m<module>\u001b[1;34m\u001b[0m\n\u001b[1;32m----> 1\u001b[1;33m \u001b[0mprint\u001b[0m\u001b[1;33m(\u001b[0m\u001b[0md\u001b[0m\u001b[1;33m[\u001b[0m\u001b[1;34m'name'\u001b[0m\u001b[1;33m]\u001b[0m\u001b[1;33m)\u001b[0m\u001b[1;33m\u001b[0m\u001b[1;33m\u001b[0m\u001b[0m\n\u001b[0m",
      "\u001b[1;31mKeyError\u001b[0m: 'name'"
     ]
    }
   ],
   "source": [
    "print(d['name'])"
   ]
  },
  {
   "cell_type": "code",
   "execution_count": 7,
   "metadata": {},
   "outputs": [],
   "source": [
    "# Update the value \n",
    "d[\"Name\"] = 'Anil Kumar'"
   ]
  },
  {
   "cell_type": "code",
   "execution_count": 8,
   "metadata": {},
   "outputs": [
    {
     "name": "stdout",
     "output_type": "stream",
     "text": [
      "Anil Kumar\n"
     ]
    }
   ],
   "source": [
    "print(d['Name'])"
   ]
  },
  {
   "cell_type": "code",
   "execution_count": 9,
   "metadata": {},
   "outputs": [],
   "source": [
    "# Delete the Dict single Key\n",
    "del d['mobile']"
   ]
  },
  {
   "cell_type": "code",
   "execution_count": 10,
   "metadata": {},
   "outputs": [
    {
     "name": "stdout",
     "output_type": "stream",
     "text": [
      "{'Name': 'Anil Kumar', 'Address': 'Hyderabad'}\n"
     ]
    }
   ],
   "source": [
    "print(d)"
   ]
  },
  {
   "cell_type": "code",
   "execution_count": null,
   "metadata": {},
   "outputs": [],
   "source": [
    "# Delete the entire dict object\n",
    "del d"
   ]
  },
  {
   "cell_type": "code",
   "execution_count": 14,
   "metadata": {},
   "outputs": [
    {
     "name": "stdout",
     "output_type": "stream",
     "text": [
      "[1, 2, 3, 4, 5]\n"
     ]
    },
    {
     "data": {
      "text/plain": [
       "True"
      ]
     },
     "execution_count": 14,
     "metadata": {},
     "output_type": "execute_result"
    }
   ],
   "source": [
    "li = [1,2,3,4,5]\n",
    "print(li)\n",
    "14 not in li"
   ]
  },
  {
   "cell_type": "code",
   "execution_count": null,
   "metadata": {},
   "outputs": [],
   "source": []
  },
  {
   "cell_type": "markdown",
   "metadata": {},
   "source": [
    "### Contact Application\n",
    "- Use of Dict Object \n",
    "    - Add New Contact"
   ]
  },
  {
   "cell_type": "code",
   "execution_count": 17,
   "metadata": {},
   "outputs": [
    {
     "name": "stdout",
     "output_type": "stream",
     "text": [
      "Contact is added\n",
      "Contact is added\n",
      "Contact Name is alredy exists\n"
     ]
    }
   ],
   "source": [
    "# Define a function for add new contacts\n",
    "contacts = {} #Empty Dict object\n",
    "def addNewContact(name,phone):\n",
    "    if name not in contacts:\n",
    "        contacts[name]  = phone\n",
    "        print('Contact is added')\n",
    "    else:\n",
    "        print('Contact Name is alredy exists')\n",
    "    return\n",
    "addNewContact('Anil',9988776611)   # Correct\n",
    "addNewContact('Harsha',9988776655) # Correct\n",
    "addNewContact('Anil',887766554422) # Error Message"
   ]
  },
  {
   "cell_type": "code",
   "execution_count": 18,
   "metadata": {},
   "outputs": [
    {
     "name": "stdout",
     "output_type": "stream",
     "text": [
      "{'Anil': 9988776611, 'Harsha': 9988776655}\n"
     ]
    }
   ],
   "source": [
    "print(contacts)"
   ]
  },
  {
   "cell_type": "code",
   "execution_count": 19,
   "metadata": {},
   "outputs": [
    {
     "name": "stdout",
     "output_type": "stream",
     "text": [
      "Anil  :  9988776611\n",
      "Data is not present\n"
     ]
    }
   ],
   "source": [
    "# define a function for search the contact details\n",
    "def searchContact(name):\n",
    "    if name in contacts:\n",
    "        print(name, ' : ', contacts[name])\n",
    "    else:\n",
    "        print('Data is not present')\n",
    "    return\n",
    "searchContact('Anil') #Need to show the data of this contact\n",
    "searchContact('Naveen') # Error"
   ]
  },
  {
   "cell_type": "code",
   "execution_count": null,
   "metadata": {},
   "outputs": [],
   "source": []
  },
  {
   "cell_type": "code",
   "execution_count": null,
   "metadata": {},
   "outputs": [],
   "source": []
  },
  {
   "cell_type": "code",
   "execution_count": null,
   "metadata": {},
   "outputs": [],
   "source": []
  },
  {
   "cell_type": "code",
   "execution_count": null,
   "metadata": {},
   "outputs": [],
   "source": []
  }
 ],
 "metadata": {
  "kernelspec": {
   "display_name": "Python 3",
   "language": "python",
   "name": "python3"
  },
  "language_info": {
   "codemirror_mode": {
    "name": "ipython",
    "version": 3
   },
   "file_extension": ".py",
   "mimetype": "text/x-python",
   "name": "python",
   "nbconvert_exporter": "python",
   "pygments_lexer": "ipython3",
   "version": "3.7.4"
  }
 },
 "nbformat": 4,
 "nbformat_minor": 2
}
