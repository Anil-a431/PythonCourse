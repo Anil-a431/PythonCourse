{
 "cells": [
  {
   "cell_type": "markdown",
   "metadata": {},
   "source": [
    "### String and String related Examples"
   ]
  },
  {
   "cell_type": "code",
   "execution_count": 2,
   "metadata": {},
   "outputs": [
    {
     "name": "stdout",
     "output_type": "stream",
     "text": [
      "application <class 'str'>\n"
     ]
    }
   ],
   "source": [
    "#String Slicing\n",
    "s = 'application'\n",
    "print(s,type(s))"
   ]
  },
  {
   "cell_type": "code",
   "execution_count": 10,
   "metadata": {},
   "outputs": [
    {
     "name": "stdout",
     "output_type": "stream",
     "text": [
      "a\n",
      "p\n",
      "c\n",
      "appl\n",
      "application\n"
     ]
    }
   ],
   "source": [
    "print(s[0]) # Access the character from the 0th Index\n",
    "print(s[1]) # Access the first index of the string\n",
    "print(s[5])\n",
    "print(s[0:4]) # Access the string from 0th index till 4th Index\n",
    "print(s[0:])"
   ]
  },
  {
   "cell_type": "code",
   "execution_count": 17,
   "metadata": {},
   "outputs": [
    {
     "name": "stdout",
     "output_type": "stream",
     "text": [
      "n\n",
      "ion\n",
      "lication\n"
     ]
    }
   ],
   "source": [
    "print(s[-1]) # Access the character from the last position\n",
    "print(s[-3:]) # Access the last three characters of the string\n",
    "print(s[3:]) # Access the string from the third index till the last"
   ]
  },
  {
   "cell_type": "code",
   "execution_count": 20,
   "metadata": {},
   "outputs": [
    {
     "name": "stdout",
     "output_type": "stream",
     "text": [
      "pplicatio\n",
      "plicati\n",
      "licatio\n"
     ]
    }
   ],
   "source": [
    "print(s[1:-1]) # Print all the characters except first and last\n",
    "print(s[2:-2]) # Print all the characters except first two and last two\n",
    "print(s[3:-1])"
   ]
  },
  {
   "cell_type": "code",
   "execution_count": 21,
   "metadata": {},
   "outputs": [
    {
     "name": "stdout",
     "output_type": "stream",
     "text": [
      "noitacilppa\n"
     ]
    }
   ],
   "source": [
    "# Reverse the string\n",
    "print(s[-1::-1])"
   ]
  },
  {
   "cell_type": "code",
   "execution_count": 23,
   "metadata": {},
   "outputs": [
    {
     "data": {
      "text/plain": [
       "'nohtyP'"
      ]
     },
     "execution_count": 23,
     "metadata": {},
     "output_type": "execute_result"
    }
   ],
   "source": [
    "# define a function for reverse the string\n",
    "def reverseStr(s):\n",
    "    return s[-1::-1]\n",
    "reverseStr('Python')"
   ]
  },
  {
   "cell_type": "code",
   "execution_count": 28,
   "metadata": {},
   "outputs": [
    {
     "data": {
      "text/plain": [
       "True"
      ]
     },
     "execution_count": 28,
     "metadata": {},
     "output_type": "execute_result"
    }
   ],
   "source": [
    "# define a function for find the string is Palindrome or not\n",
    "def isPalindrome(s):\n",
    "    if s == s[-1::-1]:\n",
    "        return True\n",
    "    return False\n",
    "isPalindrome('ganag')"
   ]
  },
  {
   "cell_type": "code",
   "execution_count": 32,
   "metadata": {},
   "outputs": [
    {
     "name": "stdout",
     "output_type": "stream",
     "text": [
      "pplication\n",
      "applicatio\n",
      "\n",
      "o\n"
     ]
    }
   ],
   "source": [
    "print(s[1:])\n",
    "print(s[:-1])\n",
    "print(s[-1:-1])\n",
    "print(s[-2:-1])"
   ]
  },
  {
   "cell_type": "code",
   "execution_count": 40,
   "metadata": {},
   "outputs": [
    {
     "name": "stdout",
     "output_type": "stream",
     "text": [
      "no\n",
      "apiain\n",
      "alao\n"
     ]
    }
   ],
   "source": [
    "print(s[-1:-3:-1])\n",
    "print(s[::2]) #Alternate two characters\n",
    "print(s[::3]) #Alternate Three Characters"
   ]
  },
  {
   "cell_type": "code",
   "execution_count": 41,
   "metadata": {},
   "outputs": [
    {
     "name": "stdout",
     "output_type": "stream",
     "text": [
      "noitacilppa\n"
     ]
    }
   ],
   "source": [
    "print(s[-1::-1]) # Reverse the string"
   ]
  },
  {
   "cell_type": "code",
   "execution_count": 63,
   "metadata": {},
   "outputs": [
    {
     "name": "stdout",
     "output_type": "stream",
     "text": [
      "Python String Concept easy to learn\n"
     ]
    },
    {
     "data": {
      "text/plain": [
       "'STRING'"
      ]
     },
     "execution_count": 63,
     "metadata": {},
     "output_type": "execute_result"
    }
   ],
   "source": [
    "# Read the string as input and print 2nd word in upper case\n",
    "# Input  : Python String Concept easy to learn\n",
    "# Output : STRING\n",
    "def wordPrint(s):\n",
    "    li = s.split()\n",
    "    x = li[1].upper()\n",
    "    return x\n",
    "a = input()\n",
    "wordPrint(a)"
   ]
  },
  {
   "cell_type": "code",
   "execution_count": 64,
   "metadata": {},
   "outputs": [
    {
     "name": "stdout",
     "output_type": "stream",
     "text": [
      "Pyth On Programming\n",
      " PROGR\n"
     ]
    }
   ],
   "source": [
    "# x = 'Python String Concept easy to learn'\n",
    "x = input()\n",
    "print(x[7:13].upper())"
   ]
  },
  {
   "cell_type": "code",
   "execution_count": 66,
   "metadata": {},
   "outputs": [
    {
     "name": "stdout",
     "output_type": "stream",
     "text": [
      "Python Programming Makes Python Easy\n",
      "Python\n"
     ]
    },
    {
     "data": {
      "text/plain": [
       "2"
      ]
     },
     "execution_count": 66,
     "metadata": {},
     "output_type": "execute_result"
    }
   ],
   "source": [
    "# Read the two string as input\n",
    "# Input : Python Programming Makes Python Easy\n",
    "# Input : Python\n",
    "# Output : 2\n",
    "def subStringCount(s,substr):\n",
    "    li = s.split()\n",
    "    cnt = 0\n",
    "    #for i in range(len(li)):\n",
    "        #if li[i] == substr:\n",
    "            #cnt += 1\n",
    "    return li.count(substr)\n",
    "s = input()\n",
    "substr = input()\n",
    "subStringCount(s,substr)"
   ]
  },
  {
   "cell_type": "markdown",
   "metadata": {},
   "source": [
    "### String Formatting\n",
    "- Classical Formatting\n",
    "- Current Formatting in Python"
   ]
  },
  {
   "cell_type": "code",
   "execution_count": 68,
   "metadata": {},
   "outputs": [
    {
     "name": "stdout",
     "output_type": "stream",
     "text": [
      "1 2 3 4\n"
     ]
    }
   ],
   "source": [
    "# Class version\n",
    "li = [1,2,3,4]\n",
    "print('%d %d %d %d' % (li[0],li[1],li[2],li[3]))"
   ]
  },
  {
   "cell_type": "code",
   "execution_count": 75,
   "metadata": {},
   "outputs": [
    {
     "name": "stdout",
     "output_type": "stream",
     "text": [
      "1.124320 \n",
      "1.12\n"
     ]
    }
   ],
   "source": [
    "x = 1.12432\n",
    "print('%f ' % x)\n",
    "print('%.2f' %  x) # Here .2f represents the float binding to 2 decimal points"
   ]
  },
  {
   "cell_type": "code",
   "execution_count": 69,
   "metadata": {},
   "outputs": [
    {
     "name": "stdout",
     "output_type": "stream",
     "text": [
      "1 2 3 4\n"
     ]
    }
   ],
   "source": [
    "# Current Version\n",
    "li = [1,2,3,4]\n",
    "print('{0} {1} {2} {3}'.format(li[0],li[1],li[2],li[3]))"
   ]
  },
  {
   "cell_type": "code",
   "execution_count": 70,
   "metadata": {},
   "outputs": [
    {
     "name": "stdout",
     "output_type": "stream",
     "text": [
      "Python Makes programming ML\n"
     ]
    }
   ],
   "source": [
    "# Classical Version\n",
    "li = ['Python','Makes','programming','ML']\n",
    "print('%s %s %s %s' % (li[0],li[1],li[2],li[3]))"
   ]
  },
  {
   "cell_type": "code",
   "execution_count": 71,
   "metadata": {},
   "outputs": [
    {
     "name": "stdout",
     "output_type": "stream",
     "text": [
      "Python Makes programming ML\n"
     ]
    }
   ],
   "source": [
    "# Current Version\n",
    "li = ['Python','Makes','programming','ML']\n",
    "print('{0} {1} {2} {3}'.format(li[0],li[1],li[2],li[3])) "
   ]
  },
  {
   "cell_type": "markdown",
   "metadata": {},
   "source": [
    "### String Functions\n",
    "- lower()\n",
    "- upper()\n",
    "\n",
    "- islower()\n",
    "- isupper()\n",
    "- isdigit()\n",
    "- istitle()\n",
    "- isnumeric()\n",
    "- isalpha()\n",
    "- isspace()"
   ]
  },
  {
   "cell_type": "code",
   "execution_count": 78,
   "metadata": {},
   "outputs": [
    {
     "name": "stdout",
     "output_type": "stream",
     "text": [
      "application\n",
      "APPLICATION\n",
      "aPPlICAtION\n"
     ]
    }
   ],
   "source": [
    "s = 'AppLicaTion'\n",
    "print(s.lower())\n",
    "print(s.upper())\n",
    "print(s.swapcase())"
   ]
  },
  {
   "cell_type": "code",
   "execution_count": 87,
   "metadata": {},
   "outputs": [
    {
     "name": "stdout",
     "output_type": "stream",
     "text": [
      "False\n",
      "False\n",
      "True\n",
      "False\n",
      "True\n",
      "False\n"
     ]
    }
   ],
   "source": [
    "s = '1'\n",
    "print(s.islower())\n",
    "print(s.isupper())\n",
    "print(s.isnumeric())\n",
    "print(s.isalpha())\n",
    "print(s.isdigit())\n",
    "print(s.istitle())"
   ]
  },
  {
   "cell_type": "code",
   "execution_count": null,
   "metadata": {},
   "outputs": [],
   "source": []
  },
  {
   "cell_type": "code",
   "execution_count": null,
   "metadata": {},
   "outputs": [],
   "source": []
  }
 ],
 "metadata": {
  "kernelspec": {
   "display_name": "Python 3",
   "language": "python",
   "name": "python3"
  },
  "language_info": {
   "codemirror_mode": {
    "name": "ipython",
    "version": 3
   },
   "file_extension": ".py",
   "mimetype": "text/x-python",
   "name": "python",
   "nbconvert_exporter": "python",
   "pygments_lexer": "ipython3",
   "version": "3.7.4"
  }
 },
 "nbformat": 4,
 "nbformat_minor": 2
}
