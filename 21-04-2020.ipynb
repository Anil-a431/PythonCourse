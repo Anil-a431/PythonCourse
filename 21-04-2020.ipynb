{
 "cells": [
  {
   "cell_type": "markdown",
   "metadata": {},
   "source": [
    "### Regular Expressions"
   ]
  },
  {
   "cell_type": "code",
   "execution_count": 1,
   "metadata": {},
   "outputs": [],
   "source": [
    "import re"
   ]
  },
  {
   "cell_type": "code",
   "execution_count": 4,
   "metadata": {},
   "outputs": [
    {
     "name": "stdout",
     "output_type": "stream",
     "text": [
      "True\n",
      "False\n"
     ]
    }
   ],
   "source": [
    "# Let's Create the regular expression for test the username\n",
    "# Parameters - Min chars are 5 max chars are 12\n",
    "def testUsername(username):\n",
    "    pattern = '^[a-z]{5,12}$'\n",
    "    if re.match(pattern,username):\n",
    "        return True\n",
    "    return False\n",
    "print(testUsername('dhyanahita')) #Valid\n",
    "print(testUsername('anil')) #Invalid"
   ]
  },
  {
   "cell_type": "code",
   "execution_count": 5,
   "metadata": {},
   "outputs": [
    {
     "name": "stdout",
     "output_type": "stream",
     "text": [
      "True\n",
      "False\n"
     ]
    }
   ],
   "source": [
    "# let's define the regular expression for the Password\n",
    "# Parameters - Lower case, Upper case, Digits and some spl char _ .\n",
    "# Min - 6 Max - 9\n",
    "def passwordTester(password):\n",
    "    pattern = '^[a-zA-Z][a-zA-Z0-9_.]{5,8}$'\n",
    "    if re.match(pattern,password):\n",
    "        return True\n",
    "    return False\n",
    "print(passwordTester('anil_1889')) # Valid\n",
    "print(passwordTester('1889_anil')) # Invalid "
   ]
  },
  {
   "cell_type": "code",
   "execution_count": 6,
   "metadata": {},
   "outputs": [
    {
     "name": "stdout",
     "output_type": "stream",
     "text": [
      "True\n",
      "False\n"
     ]
    }
   ],
   "source": [
    "# Let's Define Regular Expression for the Indian Mobile Number\n",
    "# Parameters - First Digit should be between 6 - 9\n",
    "# Rest of the Digits can be anything from 0 - 9 \n",
    "# Total Len of Indian Mobile Number Should be 10 digits\n",
    "def mobileNumberTester(mobile):\n",
    "    pattern = '^[6-9][0-9]{9}$'\n",
    "    mobile  = str(mobile)\n",
    "    if re.match(pattern,mobile):\n",
    "        return True\n",
    "    return False\n",
    "print(mobileNumberTester(9988776655)) # Valid\n",
    "print(mobileNumberTester(1234567891)) # Invalid"
   ]
  },
  {
   "cell_type": "code",
   "execution_count": 2,
   "metadata": {},
   "outputs": [
    {
     "name": "stdout",
     "output_type": "stream",
     "text": [
      "True\n"
     ]
    }
   ],
   "source": [
    "# +91-9966554433\n",
    "def mTester(mobile):\n",
    "    pattern = '^[+][9][1][-][6-9][0-9]{9}$'\n",
    "    if re.match(pattern,mobile):\n",
    "        return True\n",
    "    return False\n",
    "print(mTester('+91-9966554433'))"
   ]
  },
  {
   "cell_type": "code",
   "execution_count": 3,
   "metadata": {},
   "outputs": [
    {
     "name": "stdout",
     "output_type": "stream",
     "text": [
      "True\n",
      "False\n"
     ]
    }
   ],
   "source": [
    "# 09988776644\n",
    "def mTest(mobile):\n",
    "    pattern = '^[0][6-9][0-9]{9}$'\n",
    "    if re.match(pattern,mobile):\n",
    "        return True\n",
    "    return False\n",
    "print(mTest('09988776655')) # Valid\n",
    "print(mTest('19988776655')) # Invalid"
   ]
  },
  {
   "cell_type": "code",
   "execution_count": 5,
   "metadata": {},
   "outputs": [],
   "source": [
    "# let's make one common function\n",
    "def finalMobileTester(mobile):\n",
    "    pattern = '^[6-9][0-9]{9}$|^[+][9][1][-][6-9][0-9]{9}$|^[0][6-9][0-9]{9}$'\n",
    "    mobile = str(mobile)\n",
    "    if re.match(pattern,mobile):\n",
    "        return True\n",
    "    return False\n",
    "# Give some inputs and Test"
   ]
  },
  {
   "cell_type": "code",
   "execution_count": 6,
   "metadata": {},
   "outputs": [
    {
     "name": "stdout",
     "output_type": "stream",
     "text": [
      "True\n"
     ]
    }
   ],
   "source": [
    "# Define a function to validate the Roll Number\n",
    "# 1521A0501 -- 599 - Valid\n",
    "def validateRollNumber(roll):\n",
    "    pattern = '^[1][5][2][1][Aa][0][5][0-9][0-9]$'\n",
    "    if re.match(pattern,roll):\n",
    "        return True\n",
    "    return False\n",
    "print(validateRollNumber('1521A0501'))"
   ]
  },
  {
   "cell_type": "code",
   "execution_count": null,
   "metadata": {},
   "outputs": [],
   "source": [
    "# Validate the EmailID\n",
    "# Username@DomainName.externsion\n",
    "# anil@dhyanahita.org\n",
    "# Parameters of the Username :\n",
    "# len of the username should be between 6 to 15\n",
    "# This allows only lower case characters\n",
    "# Spl symbols are also accepted (_.)\n",
    "# Parameters of Domain Name :\n",
    "# Len should be 3 to 15\n",
    "# No spls chars\n",
    "# It all lower case characters\n",
    "# Parameters of extensions:\n",
    "# Len should be 2 to 8\n",
    "# No spl chars\n",
    "# Only lower case characters"
   ]
  },
  {
   "cell_type": "code",
   "execution_count": null,
   "metadata": {},
   "outputs": [],
   "source": []
  },
  {
   "cell_type": "code",
   "execution_count": null,
   "metadata": {},
   "outputs": [],
   "source": []
  }
 ],
 "metadata": {
  "kernelspec": {
   "display_name": "Python 3",
   "language": "python",
   "name": "python3"
  },
  "language_info": {
   "codemirror_mode": {
    "name": "ipython",
    "version": 3
   },
   "file_extension": ".py",
   "mimetype": "text/x-python",
   "name": "python",
   "nbconvert_exporter": "python",
   "pygments_lexer": "ipython3",
   "version": "3.7.4"
  }
 },
 "nbformat": 4,
 "nbformat_minor": 2
}
