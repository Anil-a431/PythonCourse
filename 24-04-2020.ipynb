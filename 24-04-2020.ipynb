{
 "cells": [
  {
   "cell_type": "markdown",
   "metadata": {},
   "source": [
    "### Python GUI - tkinter"
   ]
  },
  {
   "cell_type": "markdown",
   "metadata": {},
   "source": [
    "### To create the tkinter Application\n",
    "- Importing the Module - tkinter\n",
    "- Create the main window (container)\n",
    "- Add different kinds of add-ons (buttons, labels, textboxes and etc...)\n",
    "- Working with different types events(clicks on the button, check the checkbox)"
   ]
  },
  {
   "cell_type": "code",
   "execution_count": 1,
   "metadata": {},
   "outputs": [],
   "source": [
    "import tkinter"
   ]
  },
  {
   "cell_type": "code",
   "execution_count": 3,
   "metadata": {},
   "outputs": [],
   "source": [
    "win = tkinter.Tk()\n",
    "# We can some add-ons here\n",
    "win.mainloop()"
   ]
  },
  {
   "cell_type": "code",
   "execution_count": 5,
   "metadata": {},
   "outputs": [],
   "source": [
    "import tkinter as tk\n",
    "win = tk.Tk()\n",
    "win.mainloop()"
   ]
  },
  {
   "cell_type": "code",
   "execution_count": 12,
   "metadata": {},
   "outputs": [],
   "source": [
    "win = tk.Tk()\n",
    "win.title('GUI Programming')\n",
    "label = tk.Label(win,text = \"Hello Python\",\n",
    "                 foreground=\"white\",\n",
    "                 background=\"black\",\n",
    "                 width=10,\n",
    "                 height=20)\n",
    "label.pack() # its aligns at the center\n",
    "win.mainloop()"
   ]
  },
  {
   "cell_type": "code",
   "execution_count": 14,
   "metadata": {},
   "outputs": [],
   "source": [
    "win = tk.Tk()\n",
    "win.title('Pack Alignments')\n",
    "btn1  = tk.Button(text='Button1',fg='red').pack(side='bottom')\n",
    "btn2  = tk.Button(text='Button2',fg='green').pack(side='top')\n",
    "btn3  = tk.Button(text='Button3',fg='orange').pack(side='left')\n",
    "btn4  = tk.Button(text = 'Button4',fg = 'blue').pack(side='right')\n",
    "win.mainloop()"
   ]
  },
  {
   "cell_type": "code",
   "execution_count": 18,
   "metadata": {},
   "outputs": [],
   "source": [
    "win = tk.Tk()\n",
    "win.title('Grid Formatting')\n",
    "btn1 = tk.Button(text = 'Button1',fg='red').grid(row=0,column=0)\n",
    "btn2 = tk.Button(text = 'Button2',fg = 'green').grid(row=0,column=1)\n",
    "btn3 = tk.Button(text = 'Button3',fg = 'orange').grid(row=0,column=2)\n",
    "btn4 = tk.Button(text = 'Button4',fg = 'blue').grid(row=0,column=4)\n",
    "win.mainloop()"
   ]
  },
  {
   "cell_type": "code",
   "execution_count": 23,
   "metadata": {},
   "outputs": [],
   "source": [
    "win = tk.Tk()\n",
    "win.title('Grid Formatting...')\n",
    "btn1 = tk.Button(text = 'Button1' , fg = 'red' , bg='purple').grid(row = 0,column = 0 )\n",
    "btn2 = tk.Button(text = 'Button2' , fg = 'green' , bg='purple').grid(row = 0,column = 1)\n",
    "btn3 = tk.Button(text = 'Button3' , fg = 'green' , bg='purple').grid(columnspan = 2)\n",
    "win.mainloop()"
   ]
  },
  {
   "cell_type": "code",
   "execution_count": 27,
   "metadata": {},
   "outputs": [],
   "source": [
    "win = tk.Tk()\n",
    "win.title('Entry Field....')\n",
    "text1 = tk.Entry(text = 'Username').grid(row = 0 , column = 0)\n",
    "win.mainloop()"
   ]
  },
  {
   "cell_type": "code",
   "execution_count": null,
   "metadata": {},
   "outputs": [],
   "source": []
  },
  {
   "cell_type": "code",
   "execution_count": null,
   "metadata": {},
   "outputs": [],
   "source": []
  },
  {
   "cell_type": "code",
   "execution_count": null,
   "metadata": {},
   "outputs": [],
   "source": []
  }
 ],
 "metadata": {
  "kernelspec": {
   "display_name": "Python 3",
   "language": "python",
   "name": "python3"
  },
  "language_info": {
   "codemirror_mode": {
    "name": "ipython",
    "version": 3
   },
   "file_extension": ".py",
   "mimetype": "text/x-python",
   "name": "python",
   "nbconvert_exporter": "python",
   "pygments_lexer": "ipython3",
   "version": "3.7.4"
  }
 },
 "nbformat": 4,
 "nbformat_minor": 2
}
