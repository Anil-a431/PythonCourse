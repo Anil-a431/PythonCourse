{
 "cells": [
  {
   "cell_type": "markdown",
   "metadata": {},
   "source": [
    "# Python Programming\n",
    "## Python Programming\n",
    "### Python Programming\n",
    "#### Python Programming\n",
    "##### Python Programming\n",
    "###### Python Programming"
   ]
  },
  {
   "cell_type": "markdown",
   "metadata": {},
   "source": [
    "# Heading\n",
    "- Option 1\n",
    "    - Sub Point 1\n",
    "    - Sub Point 2\n",
    "- Option 2\n",
    "- Option 3"
   ]
  },
  {
   "cell_type": "code",
   "execution_count": 1,
   "metadata": {},
   "outputs": [
    {
     "data": {
      "text/plain": [
       "'C:\\\\Users\\\\Dhyanahita PS\\\\Python Programming Course'"
      ]
     },
     "execution_count": 1,
     "metadata": {},
     "output_type": "execute_result"
    }
   ],
   "source": [
    "pwd"
   ]
  },
  {
   "cell_type": "markdown",
   "metadata": {},
   "source": [
    "<img src = 'Python_Logo.png' Height = '250px' width = '250px'   />"
   ]
  },
  {
   "cell_type": "markdown",
   "metadata": {},
   "source": [
    "- **Dhyanahita** School of Professional Studies\n",
    "- *Python Programming*\n",
    "- ***Machine Learning***\n",
    "- **Data sciences**\n",
    "- ***Full Stack Development***"
   ]
  },
  {
   "cell_type": "markdown",
   "metadata": {},
   "source": [
    "### Introduction to Python Programming\n",
    "- Python is one of the popular Programming Language\n",
    "- It is introduced in the year of 1991 by Guido van Rossum\n",
    "- Right now it's handled by Google\n",
    "- Python can be used as Scripting Lang, Functional Programming and OOP\n",
    "- Python can be used to design web application by using Django\n",
    "- Python is Open source Programming Language"
   ]
  },
  {
   "cell_type": "code",
   "execution_count": 2,
   "metadata": {},
   "outputs": [
    {
     "name": "stdout",
     "output_type": "stream",
     "text": [
      "Welcome to Python Programming\n"
     ]
    }
   ],
   "source": [
    "print('Welcome to Python Programming')"
   ]
  },
  {
   "cell_type": "code",
   "execution_count": 3,
   "metadata": {},
   "outputs": [
    {
     "name": "stdout",
     "output_type": "stream",
     "text": [
      "Dhyanahita\n",
      "Machine Learning\n"
     ]
    }
   ],
   "source": [
    "print('Dhyanahita')\n",
    "print('Machine Learning')"
   ]
  },
  {
   "cell_type": "code",
   "execution_count": 4,
   "metadata": {},
   "outputs": [
    {
     "name": "stdout",
     "output_type": "stream",
     "text": [
      "Dhyanahita Machine Learning\n"
     ]
    }
   ],
   "source": [
    "print('Dhyanahita',end = ' ')\n",
    "print('Machine Learning')"
   ]
  },
  {
   "cell_type": "code",
   "execution_count": 5,
   "metadata": {},
   "outputs": [
    {
     "name": "stdout",
     "output_type": "stream",
     "text": [
      "Dhyanahita Data Science\n"
     ]
    }
   ],
   "source": [
    "print('Dhyanahita','Data Science')"
   ]
  },
  {
   "cell_type": "markdown",
   "metadata": {},
   "source": [
    "### Input Function\n",
    "- This will reads the input from console screen and will give to the program\n",
    "- input() can be used in python to do this\n",
    "- input() will reads the input in terms of string format"
   ]
  },
  {
   "cell_type": "code",
   "execution_count": 6,
   "metadata": {},
   "outputs": [
    {
     "name": "stdout",
     "output_type": "stream",
     "text": [
      "Enter Your Name Anil Kumar\n",
      "name :  Anil Kumar\n"
     ]
    }
   ],
   "source": [
    "name = input('Enter Your Name ')\n",
    "print('name : ',name)"
   ]
  },
  {
   "cell_type": "code",
   "execution_count": null,
   "metadata": {},
   "outputs": [],
   "source": []
  },
  {
   "cell_type": "code",
   "execution_count": null,
   "metadata": {},
   "outputs": [],
   "source": []
  },
  {
   "cell_type": "code",
   "execution_count": null,
   "metadata": {},
   "outputs": [],
   "source": []
  }
 ],
 "metadata": {
  "kernelspec": {
   "display_name": "Python 3",
   "language": "python",
   "name": "python3"
  },
  "language_info": {
   "codemirror_mode": {
    "name": "ipython",
    "version": 3
   },
   "file_extension": ".py",
   "mimetype": "text/x-python",
   "name": "python",
   "nbconvert_exporter": "python",
   "pygments_lexer": "ipython3",
   "version": "3.7.4"
  }
 },
 "nbformat": 4,
 "nbformat_minor": 2
}
