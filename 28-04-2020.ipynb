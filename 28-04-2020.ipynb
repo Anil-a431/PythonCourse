{
 "cells": [
  {
   "cell_type": "markdown",
   "metadata": {},
   "source": [
    "### Transforming Code into Beautiful, Idiomatic Approch - Python"
   ]
  },
  {
   "cell_type": "markdown",
   "metadata": {},
   "source": [
    "### LOOPING over the range of numbers"
   ]
  },
  {
   "cell_type": "code",
   "execution_count": 1,
   "metadata": {},
   "outputs": [
    {
     "name": "stdout",
     "output_type": "stream",
     "text": [
      "0 1 2 3 4 5 "
     ]
    }
   ],
   "source": [
    "for i in [0,1,2,3,4,5]:\n",
    "    print(i,end = ' ')"
   ]
  },
  {
   "cell_type": "code",
   "execution_count": 2,
   "metadata": {},
   "outputs": [
    {
     "name": "stdout",
     "output_type": "stream",
     "text": [
      "0 1 2 3 4 5 "
     ]
    }
   ],
   "source": [
    "# xrange is renamed as range() in python3\n",
    "for i in range(0,6):\n",
    "    print(i, end = ' ')"
   ]
  },
  {
   "cell_type": "markdown",
   "metadata": {},
   "source": [
    "### LOOPING over a collection"
   ]
  },
  {
   "cell_type": "code",
   "execution_count": 3,
   "metadata": {},
   "outputs": [
    {
     "name": "stdout",
     "output_type": "stream",
     "text": [
      "Python Django Data Science Machine Learning "
     ]
    }
   ],
   "source": [
    "li = ['Python','Django','Data Science','Machine Learning']\n",
    "for i in range(len(li)):\n",
    "    print(li[i],end = ' ')"
   ]
  },
  {
   "cell_type": "code",
   "execution_count": 4,
   "metadata": {},
   "outputs": [
    {
     "name": "stdout",
     "output_type": "stream",
     "text": [
      "Python Django Data Science Machine Learning "
     ]
    }
   ],
   "source": [
    "# Better\n",
    "for i in li:\n",
    "    print(i,end = ' ')"
   ]
  },
  {
   "cell_type": "markdown",
   "metadata": {},
   "source": [
    "### Looping over a Collection - Backwards "
   ]
  },
  {
   "cell_type": "code",
   "execution_count": 8,
   "metadata": {},
   "outputs": [
    {
     "name": "stdout",
     "output_type": "stream",
     "text": [
      "6 4 2 "
     ]
    }
   ],
   "source": [
    "li = [1,2,3,4,5,6]\n",
    "for i in range(len(li)-1,-1,-2):\n",
    "    print(li[i],end = ' ')"
   ]
  },
  {
   "cell_type": "code",
   "execution_count": 6,
   "metadata": {},
   "outputs": [
    {
     "name": "stdout",
     "output_type": "stream",
     "text": [
      "6 5 4 3 2 1 "
     ]
    }
   ],
   "source": [
    "for i in reversed(li):\n",
    "    print(i,end = ' ')"
   ]
  },
  {
   "cell_type": "code",
   "execution_count": 7,
   "metadata": {},
   "outputs": [
    {
     "name": "stdout",
     "output_type": "stream",
     "text": [
      "1 11 12 19 23 25 "
     ]
    }
   ],
   "source": [
    "li = [19,1,25,12,23,11]\n",
    "for i in sorted(li):\n",
    "    print(i,end = ' ')"
   ]
  },
  {
   "cell_type": "code",
   "execution_count": 10,
   "metadata": {},
   "outputs": [
    {
     "name": "stdout",
     "output_type": "stream",
     "text": [
      "25 23 19 19 12 11 1 1 "
     ]
    }
   ],
   "source": [
    "li = [19,1,25,12,23,11,19,1]\n",
    "for i in reversed(sorted(li)):\n",
    "    print(i,end = ' ')"
   ]
  },
  {
   "cell_type": "markdown",
   "metadata": {},
   "source": [
    "### Backwards sorted order"
   ]
  },
  {
   "cell_type": "code",
   "execution_count": 11,
   "metadata": {},
   "outputs": [
    {
     "name": "stdout",
     "output_type": "stream",
     "text": [
      "25 23 19 12 11 1 "
     ]
    }
   ],
   "source": [
    "li = [19,1,25,12,23,11]\n",
    "for i in sorted(li,reverse=True):\n",
    "    print(i,end = ' ')"
   ]
  },
  {
   "cell_type": "markdown",
   "metadata": {},
   "source": [
    "### Looping over a Collection - Dicitonary "
   ]
  },
  {
   "cell_type": "code",
   "execution_count": 12,
   "metadata": {},
   "outputs": [],
   "source": [
    "d = {'Name':'Dhyanahita','EmailID':'anil@dhyanahita.org','Mobile':9988776655}"
   ]
  },
  {
   "cell_type": "code",
   "execution_count": 13,
   "metadata": {},
   "outputs": [
    {
     "name": "stdout",
     "output_type": "stream",
     "text": [
      "Name EmailID Mobile "
     ]
    }
   ],
   "source": [
    "for k in d:\n",
    "    print(k,end = ' ')"
   ]
  },
  {
   "cell_type": "code",
   "execution_count": 14,
   "metadata": {},
   "outputs": [
    {
     "name": "stdout",
     "output_type": "stream",
     "text": [
      "Dhyanahita anil@dhyanahita.org 9988776655 "
     ]
    }
   ],
   "source": [
    "for k in d:\n",
    "    print(d[k],end = ' ')"
   ]
  },
  {
   "cell_type": "code",
   "execution_count": 15,
   "metadata": {},
   "outputs": [
    {
     "name": "stdout",
     "output_type": "stream",
     "text": [
      "Name  >  Dhyanahita\n",
      "EmailID  >  anil@dhyanahita.org\n",
      "Mobile  >  9988776655\n"
     ]
    }
   ],
   "source": [
    "for k in d:\n",
    "    print( k , ' > ' , d[k])"
   ]
  },
  {
   "cell_type": "code",
   "execution_count": 16,
   "metadata": {},
   "outputs": [
    {
     "name": "stdout",
     "output_type": "stream",
     "text": [
      "EmailID  >  anil@dhyanahita.org\n",
      "Mobile  >  9988776655\n",
      "Name  >  Dhyanahita\n"
     ]
    }
   ],
   "source": [
    "# Sorted - Sort the keys of dict object\n",
    "for k in sorted(d):\n",
    "    print(k, ' > ',d[k])"
   ]
  },
  {
   "cell_type": "code",
   "execution_count": 18,
   "metadata": {},
   "outputs": [
    {
     "name": "stdout",
     "output_type": "stream",
     "text": [
      "Name  >  Dhyanahita\n",
      "EmailID  >  anil@dhyanahita.org\n",
      "Mobile  >  9988776655\n"
     ]
    }
   ],
   "source": [
    "# Collection dict is very huge\n",
    "# Alots of time\n",
    "for k,v in d.items():\n",
    "    print(k, ' > ',v)"
   ]
  },
  {
   "cell_type": "code",
   "execution_count": 25,
   "metadata": {},
   "outputs": [
    {
     "ename": "AttributeError",
     "evalue": "'dict' object has no attribute 'iteritems'",
     "output_type": "error",
     "traceback": [
      "\u001b[1;31m---------------------------------------------------------------------------\u001b[0m",
      "\u001b[1;31mAttributeError\u001b[0m                            Traceback (most recent call last)",
      "\u001b[1;32m<ipython-input-25-1b620f7bca04>\u001b[0m in \u001b[0;36m<module>\u001b[1;34m\u001b[0m\n\u001b[1;32m----> 1\u001b[1;33m \u001b[1;32mfor\u001b[0m \u001b[0mk\u001b[0m\u001b[1;33m,\u001b[0m\u001b[0mv\u001b[0m \u001b[1;32min\u001b[0m \u001b[0md\u001b[0m\u001b[1;33m.\u001b[0m\u001b[0miteritems\u001b[0m\u001b[1;33m(\u001b[0m\u001b[1;33m)\u001b[0m\u001b[1;33m:\u001b[0m\u001b[1;33m\u001b[0m\u001b[1;33m\u001b[0m\u001b[0m\n\u001b[0m\u001b[0;32m      2\u001b[0m     \u001b[0mprint\u001b[0m\u001b[1;33m(\u001b[0m\u001b[0mk\u001b[0m\u001b[1;33m,\u001b[0m \u001b[1;34m' > '\u001b[0m\u001b[1;33m,\u001b[0m\u001b[0mv\u001b[0m\u001b[1;33m)\u001b[0m\u001b[1;33m\u001b[0m\u001b[1;33m\u001b[0m\u001b[0m\n",
      "\u001b[1;31mAttributeError\u001b[0m: 'dict' object has no attribute 'iteritems'"
     ]
    }
   ],
   "source": [
    "for k,v in d.iteritems():\n",
    "    print(k, ' > ',v)"
   ]
  },
  {
   "cell_type": "code",
   "execution_count": 23,
   "metadata": {},
   "outputs": [
    {
     "name": "stdout",
     "output_type": "stream",
     "text": [
      "Help on built-in function iter in module builtins:\n",
      "\n",
      "iter(...)\n",
      "    iter(iterable) -> iterator\n",
      "    iter(callable, sentinel) -> iterator\n",
      "    \n",
      "    Get an iterator from an object.  In the first form, the argument must\n",
      "    supply its own iterator, or be a sequence.\n",
      "    In the second form, the callable is called until it returns the sentinel.\n",
      "\n"
     ]
    }
   ],
   "source": [
    "help(iter)"
   ]
  },
  {
   "cell_type": "markdown",
   "metadata": {},
   "source": [
    "### Lambda Functions in Python\n",
    "\n",
    "- Anonymous Function : Means that function without name\n",
    "- Function or Method can be defined with def keyword similar to that lambda can be\n",
    "- defined with lambda \n",
    "- Here Lambda function can be used only one expression\n",
    "- This function can have more number of arguments but only one expression evaluates and returned"
   ]
  },
  {
   "cell_type": "code",
   "execution_count": 26,
   "metadata": {},
   "outputs": [
    {
     "data": {
      "text/plain": [
       "27"
      ]
     },
     "execution_count": 26,
     "metadata": {},
     "output_type": "execute_result"
    }
   ],
   "source": [
    "# Function or Method\n",
    "def cube(x):\n",
    "    return x*x*x\n",
    "cube(3)"
   ]
  },
  {
   "cell_type": "code",
   "execution_count": 27,
   "metadata": {},
   "outputs": [
    {
     "name": "stdout",
     "output_type": "stream",
     "text": [
      "27\n"
     ]
    }
   ],
   "source": [
    "g = lambda x : x*x*x\n",
    "print(g(3))"
   ]
  },
  {
   "cell_type": "code",
   "execution_count": 28,
   "metadata": {},
   "outputs": [
    {
     "name": "stdout",
     "output_type": "stream",
     "text": [
      "24\n"
     ]
    }
   ],
   "source": [
    "add = lambda x,y : x + y\n",
    "print(add(12,12))"
   ]
  },
  {
   "cell_type": "code",
   "execution_count": 31,
   "metadata": {},
   "outputs": [
    {
     "name": "stdout",
     "output_type": "stream",
     "text": [
      "6\n"
     ]
    }
   ],
   "source": [
    "mul = lambda a1,a2,a3 : a1 * a2 * a3 \n",
    "print(mul(1,2,3))"
   ]
  },
  {
   "cell_type": "markdown",
   "metadata": {},
   "source": [
    "### User of Lambda with filter()\n",
    "- The filter() in Python takes in a function and list as argument"
   ]
  },
  {
   "cell_type": "code",
   "execution_count": 34,
   "metadata": {},
   "outputs": [
    {
     "name": "stdout",
     "output_type": "stream",
     "text": [
      "12 22 32 18 "
     ]
    }
   ],
   "source": [
    "# Even of the list\n",
    "li = [19,1,25,23,12,89,22,32,18]\n",
    "for i in range(len(li)):\n",
    "    if li[i] % 2 == 0:\n",
    "        print(li[i],end = ' ')"
   ]
  },
  {
   "cell_type": "code",
   "execution_count": 37,
   "metadata": {},
   "outputs": [
    {
     "name": "stdout",
     "output_type": "stream",
     "text": [
      "[12, 22, 32, 18]\n"
     ]
    }
   ],
   "source": [
    "li = [19,1,25,23,12,89,22,32,18]\n",
    "final_list = list(filter(lambda x : (x % 2 == 0),li))\n",
    "print(final_list)"
   ]
  },
  {
   "cell_type": "markdown",
   "metadata": {},
   "source": [
    "### Use of lambda with map()"
   ]
  },
  {
   "cell_type": "code",
   "execution_count": 38,
   "metadata": {},
   "outputs": [
    {
     "name": "stdout",
     "output_type": "stream",
     "text": [
      "38 2 50 46 24 178 44 64 36 "
     ]
    }
   ],
   "source": [
    "# I want every list item has to multiply with 2\n",
    "li = [19,1,25,23,12,89,22,32,18]\n",
    "for i in range(len(li)):\n",
    "    print(li[i]*2,end = ' ')"
   ]
  },
  {
   "cell_type": "code",
   "execution_count": 40,
   "metadata": {},
   "outputs": [
    {
     "name": "stdout",
     "output_type": "stream",
     "text": [
      "[38, 2, 50, 46, 24, 178, 44, 64, 36]\n"
     ]
    }
   ],
   "source": [
    "li = [19,1,25,23,12,89,22,32,18]\n",
    "final_list = list(map(lambda x : x*2,li))\n",
    "print(final_list)"
   ]
  },
  {
   "cell_type": "markdown",
   "metadata": {},
   "source": [
    "### Use of Lambda with reduce()"
   ]
  },
  {
   "cell_type": "code",
   "execution_count": 41,
   "metadata": {},
   "outputs": [
    {
     "name": "stdout",
     "output_type": "stream",
     "text": [
      "241\n"
     ]
    }
   ],
   "source": [
    "# all the list items - sum\n",
    "li = [19,1,25,23,12,89,22,32,18]\n",
    "sum = 0\n",
    "for i in range(len(li)):\n",
    "    sum += li[i]\n",
    "print(sum)"
   ]
  },
  {
   "cell_type": "code",
   "execution_count": 43,
   "metadata": {},
   "outputs": [
    {
     "name": "stdout",
     "output_type": "stream",
     "text": [
      "241\n"
     ]
    }
   ],
   "source": [
    "from functools import reduce\n",
    "li = [19,1,25,23,12,89,22,32,18]\n",
    "sum = 0\n",
    "sum = reduce((lambda x,y:x+y),li)\n",
    "print(sum)"
   ]
  },
  {
   "cell_type": "code",
   "execution_count": null,
   "metadata": {},
   "outputs": [],
   "source": []
  }
 ],
 "metadata": {
  "kernelspec": {
   "display_name": "Python 3",
   "language": "python",
   "name": "python3"
  },
  "language_info": {
   "codemirror_mode": {
    "name": "ipython",
    "version": 3
   },
   "file_extension": ".py",
   "mimetype": "text/x-python",
   "name": "python",
   "nbconvert_exporter": "python",
   "pygments_lexer": "ipython3",
   "version": "3.7.4"
  }
 },
 "nbformat": 4,
 "nbformat_minor": 2
}
