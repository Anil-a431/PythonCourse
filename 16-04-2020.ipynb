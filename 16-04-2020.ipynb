{
 "cells": [
  {
   "cell_type": "markdown",
   "metadata": {},
   "source": [
    "### File Management in Python\n",
    "- Create a File\n",
    "- Write the Data to the file\n",
    "- Read the data from the file\n",
    "- Some examples on File Data"
   ]
  },
  {
   "cell_type": "code",
   "execution_count": null,
   "metadata": {},
   "outputs": [],
   "source": [
    "### Modes of the File - w, r and a\n",
    "### w - write r - read a - append\n",
    "# w - If the file is not present the specified dir\n",
    "# then it will create a file and supplied to the file\n",
    "# w - If the file is already exists then the data will be overwritten"
   ]
  },
  {
   "cell_type": "code",
   "execution_count": 2,
   "metadata": {},
   "outputs": [
    {
     "name": "stdout",
     "output_type": "stream",
     "text": [
      "File is created and Data is written\n"
     ]
    }
   ],
   "source": [
    "# Define a function to create a file\n",
    "def createFile(fileName):\n",
    "    f = open(fileName,'w')\n",
    "    for i in range(10):\n",
    "        f.write('This is %d line\\n' % i)\n",
    "    print('File is created and Data is written')\n",
    "    f.close()\n",
    "    return\n",
    "createFile('Data.txt')"
   ]
  },
  {
   "cell_type": "code",
   "execution_count": 1,
   "metadata": {},
   "outputs": [
    {
     "data": {
      "text/plain": [
       "'C:\\\\Users\\\\Dhyanahita PS\\\\Python Programming Course'"
      ]
     },
     "execution_count": 1,
     "metadata": {},
     "output_type": "execute_result"
    }
   ],
   "source": [
    "pwd"
   ]
  },
  {
   "cell_type": "code",
   "execution_count": 3,
   "metadata": {},
   "outputs": [
    {
     "name": "stdout",
     "output_type": "stream",
     "text": [
      " Volume in drive C has no label.\n",
      " Volume Serial Number is 8081-5EFA\n",
      "\n",
      " Directory of C:\\Users\\Dhyanahita PS\\Python Programming Course\n",
      "\n",
      "16-04-2020  09:36    <DIR>          .\n",
      "16-04-2020  09:36    <DIR>          ..\n",
      "16-04-2020  09:28    <DIR>          .ipynb_checkpoints\n",
      "08-04-2020  11:56             4,370 08-04-2020.ipynb\n",
      "09-04-2020  11:57             8,696 09-04-2020.ipynb\n",
      "10-04-2020  11:55            13,401 10-04-2020.ipynb\n",
      "11-04-2020  12:00            11,718 11-04-2020.ipynb\n",
      "14-04-2020  10:43             7,642 14-04-2020.ipynb\n",
      "16-04-2020  09:22            16,768 15-04-2020.ipynb\n",
      "16-04-2020  09:35             2,378 16-04-2020.ipynb\n",
      "16-04-2020  09:36               160 Data.txt\n",
      "08-04-2020  11:10             2,915 Python_Logo.png\n",
      "               9 File(s)         68,048 bytes\n",
      "               3 Dir(s)  25,955,729,408 bytes free\n"
     ]
    }
   ],
   "source": [
    "ls"
   ]
  },
  {
   "cell_type": "code",
   "execution_count": 5,
   "metadata": {},
   "outputs": [
    {
     "ename": "SyntaxError",
     "evalue": "invalid syntax (<ipython-input-5-f022eb9d9431>, line 1)",
     "output_type": "error",
     "traceback": [
      "\u001b[1;36m  File \u001b[1;32m\"<ipython-input-5-f022eb9d9431>\"\u001b[1;36m, line \u001b[1;32m1\u001b[0m\n\u001b[1;33m    cat 'Data.txt'\u001b[0m\n\u001b[1;37m                 ^\u001b[0m\n\u001b[1;31mSyntaxError\u001b[0m\u001b[1;31m:\u001b[0m invalid syntax\n"
     ]
    }
   ],
   "source": []
  },
  {
   "cell_type": "code",
   "execution_count": 7,
   "metadata": {},
   "outputs": [],
   "source": [
    "# Define a function \n",
    "def createFile1(fileName):\n",
    "    f = open(fileName,'w')\n",
    "    f.write('Dhyanahita')\n",
    "    f.close()\n",
    "    return\n",
    "createFile1('Data.txt')"
   ]
  },
  {
   "cell_type": "code",
   "execution_count": 8,
   "metadata": {},
   "outputs": [
    {
     "name": "stdout",
     "output_type": "stream",
     "text": [
      "Data is written\n"
     ]
    }
   ],
   "source": [
    "# Define a function to append the data\n",
    "# a - append -- If the file is already present then the\n",
    "# data will be appended at the end of the line\n",
    "def appendData(fileName):\n",
    "    f = open(fileName,'a')\n",
    "    for i in range(10):\n",
    "        f.write('This is %d line\\n' % i)\n",
    "    print('Data is written')\n",
    "    f.close()\n",
    "    return\n",
    "appendData('Data.txt')"
   ]
  },
  {
   "cell_type": "code",
   "execution_count": 9,
   "metadata": {},
   "outputs": [
    {
     "name": "stdout",
     "output_type": "stream",
     "text": [
      "DhyanahitaThis is 0 line\n",
      "This is 1 line\n",
      "This is 2 line\n",
      "This is 3 line\n",
      "This is 4 line\n",
      "This is 5 line\n",
      "This is 6 line\n",
      "This is 7 line\n",
      "This is 8 line\n",
      "This is 9 line\n",
      "\n"
     ]
    }
   ],
   "source": [
    "# Define a function for reading the file \n",
    "def readFileData(fileName):\n",
    "    f = open(fileName,'r')\n",
    "    if f.mode == 'r':\n",
    "        x = f.read()\n",
    "        print(x)\n",
    "    return\n",
    "readFileData('Data.txt')"
   ]
  },
  {
   "cell_type": "code",
   "execution_count": null,
   "metadata": {},
   "outputs": [],
   "source": [
    "# Data Analysis - Data Science Concept"
   ]
  },
  {
   "cell_type": "code",
   "execution_count": 11,
   "metadata": {},
   "outputs": [
    {
     "name": "stdout",
     "output_type": "stream",
     "text": [
      "['Python', 'Programming', 'Lang']\n"
     ]
    }
   ],
   "source": [
    "s = 'Python Programming Lang'\n",
    "#print(s,type(s))\n",
    "li = s.split() # Divide the string into multiple words based on space char\n",
    "print(li)"
   ]
  },
  {
   "cell_type": "code",
   "execution_count": 13,
   "metadata": {},
   "outputs": [
    {
     "name": "stdout",
     "output_type": "stream",
     "text": [
      "['Python Progr', 'mming L', 'ng']\n"
     ]
    }
   ],
   "source": [
    "s1 = 'Python Programming Lang'\n",
    "li = s1.split('a')\n",
    "print(li)"
   ]
  },
  {
   "cell_type": "code",
   "execution_count": 14,
   "metadata": {},
   "outputs": [
    {
     "name": "stdout",
     "output_type": "stream",
     "text": [
      "['Python Pro', 'mming Lang']\n"
     ]
    }
   ],
   "source": [
    "s2  =  'Python Programming Lang'\n",
    "li = s2.split('gra')\n",
    "print(li)"
   ]
  },
  {
   "cell_type": "code",
   "execution_count": 16,
   "metadata": {},
   "outputs": [
    {
     "data": {
      "text/plain": [
       "40"
      ]
     },
     "execution_count": 16,
     "metadata": {},
     "output_type": "execute_result"
    }
   ],
   "source": [
    "# Word Count of the given File\n",
    "def wordCount(fileName):\n",
    "    # f = open(fileName,'r')\n",
    "    with open(fileName,'r') as f:\n",
    "        if f.mode == 'r':\n",
    "            x = f.read()\n",
    "            li = x.split()\n",
    "    return len(li)\n",
    "wordCount('Data.txt')"
   ]
  },
  {
   "cell_type": "code",
   "execution_count": 20,
   "metadata": {},
   "outputs": [
    {
     "data": {
      "text/plain": [
       "10"
      ]
     },
     "execution_count": 20,
     "metadata": {},
     "output_type": "execute_result"
    }
   ],
   "source": [
    "# Word count for the specific word\n",
    "# Input - 'is'\n",
    "# Output - How many times it is repeated\n",
    "def specificWordCount(fileName,word):\n",
    "    with open(fileName,'r') as f:\n",
    "        if f.mode == 'r':\n",
    "            x = f.read()\n",
    "            li = x.split()\n",
    "    return li.count(word)\n",
    "specificWordCount('Data.txt','line')"
   ]
  },
  {
   "cell_type": "code",
   "execution_count": 21,
   "metadata": {},
   "outputs": [
    {
     "name": "stdout",
     "output_type": "stream",
     "text": [
      "['P', 'y', 't', 'h', 'o', 'n']\n"
     ]
    }
   ],
   "source": [
    "s1 = 'Python'\n",
    "li = list(s1)\n",
    "print(li)"
   ]
  },
  {
   "cell_type": "code",
   "execution_count": 22,
   "metadata": {},
   "outputs": [
    {
     "name": "stdout",
     "output_type": "stream",
     "text": [
      "['P', 'y', 't', 'h', 'o', 'n', ' ', 'P', 'r', 'o', 'g', 'r', 'a', 'm', 'm', 'i', 'n', 'g']\n"
     ]
    }
   ],
   "source": [
    "s2 = 'Python Programming'\n",
    "a = list(s2)\n",
    "print(a)"
   ]
  },
  {
   "cell_type": "code",
   "execution_count": 23,
   "metadata": {},
   "outputs": [
    {
     "data": {
      "text/plain": [
       "160"
      ]
     },
     "execution_count": 23,
     "metadata": {},
     "output_type": "execute_result"
    }
   ],
   "source": [
    "# Define a function for finding the char count\n",
    "def charCount(fileName):\n",
    "    with open(fileName,'r') as f:\n",
    "        if f.mode == 'r':\n",
    "            x = f.read()\n",
    "            li = list(x)\n",
    "    return len(li)\n",
    "charCount('Data.txt')"
   ]
  },
  {
   "cell_type": "code",
   "execution_count": 25,
   "metadata": {},
   "outputs": [],
   "source": [
    "# Find the Lower case and Upper case word count from the file\n",
    "def countLowerChar(fileName):\n",
    "    return\n",
    "countLowerChar('Data.txt')\n",
    "def countUpperChar(fileName):\n",
    "    return\n",
    "countUpperChar('Data.txt')"
   ]
  },
  {
   "cell_type": "code",
   "execution_count": 24,
   "metadata": {},
   "outputs": [],
   "source": [
    "# Find the number of lines in the given file\n",
    "def countLines(fileName):\n",
    "    return\n",
    "countLines('Data.txt')"
   ]
  },
  {
   "cell_type": "code",
   "execution_count": null,
   "metadata": {},
   "outputs": [],
   "source": []
  }
 ],
 "metadata": {
  "kernelspec": {
   "display_name": "Python 3",
   "language": "python",
   "name": "python3"
  },
  "language_info": {
   "codemirror_mode": {
    "name": "ipython",
    "version": 3
   },
   "file_extension": ".py",
   "mimetype": "text/x-python",
   "name": "python",
   "nbconvert_exporter": "python",
   "pygments_lexer": "ipython3",
   "version": "3.7.4"
  }
 },
 "nbformat": 4,
 "nbformat_minor": 2
}
