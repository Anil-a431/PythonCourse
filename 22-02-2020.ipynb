{
 "cells": [
  {
   "cell_type": "code",
   "execution_count": 1,
   "metadata": {},
   "outputs": [],
   "source": [
    "import re"
   ]
  },
  {
   "cell_type": "code",
   "execution_count": 3,
   "metadata": {},
   "outputs": [
    {
     "name": "stdout",
     "output_type": "stream",
     "text": [
      "True\n",
      "False\n"
     ]
    }
   ],
   "source": [
    "def emailTester(email):\n",
    "    pattern = '^[a-z][a-z0-9_.]{5,14}[@][a-z]{3,15}[.][a-z]{2,5}$'\n",
    "    if re.match(pattern,email):\n",
    "        return True\n",
    "    return False\n",
    "print(emailTester('anil_1889@dhyanahita.org')) # Valid\n",
    "print(emailTester('anil@dhyanahita.org'))"
   ]
  },
  {
   "cell_type": "code",
   "execution_count": null,
   "metadata": {},
   "outputs": [],
   "source": [
    "# Let's Define a Regular Expression for Password\n",
    "# Should Have min 1 lower case\n",
    "# Should have min 1 upper case\n",
    "# Should have min 1 digit\n",
    "# Should have one spl char - $ @ !\n",
    "# Over all len of the password should be min 6 and max 15"
   ]
  },
  {
   "cell_type": "code",
   "execution_count": 4,
   "metadata": {},
   "outputs": [
    {
     "name": "stdout",
     "output_type": "stream",
     "text": [
      "True\n",
      "False\n"
     ]
    }
   ],
   "source": [
    "def passwordTester(password):\n",
    "    pattern = '^((?=.*[a-z])(?=.*[A-Z])(?=.*[$@!])(?=.*[0-9])).{6,15}$'\n",
    "    if re.match(pattern,password):\n",
    "        return True\n",
    "    return False\n",
    "print(passwordTester('Anil@1889')) # Valid\n",
    "print(passwordTester('anil@1889')) # Invalid"
   ]
  },
  {
   "cell_type": "markdown",
   "metadata": {},
   "source": [
    "### Object Oriented Programming in Python\n",
    "- Class\n",
    "- Object\n",
    "- Methods\n",
    "- Constructors\n",
    "- Inheritance\n",
    "## Class\n",
    "- class is collection of data members and member functions\n",
    "- class is logical entity\n",
    "- class in python can be defined by **class** keyword\n",
    "- Class Name is always starts with Upper case character"
   ]
  },
  {
   "cell_type": "code",
   "execution_count": 6,
   "metadata": {},
   "outputs": [
    {
     "name": "stdout",
     "output_type": "stream",
     "text": [
      "Test method from Demo class\n"
     ]
    }
   ],
   "source": [
    "class Demo:\n",
    "    # Method\n",
    "    def Test(self):\n",
    "        print('Test method from Demo class')\n",
    "        return\n",
    "obj = Demo()\n",
    "obj.Test()"
   ]
  },
  {
   "cell_type": "code",
   "execution_count": 10,
   "metadata": {},
   "outputs": [
    {
     "name": "stdout",
     "output_type": "stream",
     "text": [
      "Your Name is  Anil\n"
     ]
    }
   ],
   "source": [
    "class Demo1:\n",
    "    def Test(self,name):\n",
    "        print('Your Name is ',name)\n",
    "        return\n",
    "obj1 = Demo1()\n",
    "obj1.Test('Anil')"
   ]
  },
  {
   "cell_type": "code",
   "execution_count": 12,
   "metadata": {},
   "outputs": [
    {
     "name": "stdout",
     "output_type": "stream",
     "text": [
      "anil_1889@dhyanahita.org\n"
     ]
    },
    {
     "data": {
      "text/plain": [
       "True"
      ]
     },
     "execution_count": 12,
     "metadata": {},
     "output_type": "execute_result"
    }
   ],
   "source": [
    "class Demo2:\n",
    "    def emailTester(self,email):\n",
    "        pattern = '^[a-z][a-z0-9_.]{5,14}[@][a-z]{3,15}[.][a-z]{2,5}$'\n",
    "        if re.match(pattern,email):\n",
    "            return True\n",
    "        return False\n",
    "    def passwordTester(self,password):\n",
    "        pattern = '^((?=.*[a-z])(?=.*[A-Z])(?=.*[$@!])(?=.*[0-9])).{6,15}$'\n",
    "        if re.match(pattern,password):\n",
    "            return True\n",
    "        return False\n",
    "obj = Demo2()\n",
    "email = input()\n",
    "obj.emailTester(email)"
   ]
  },
  {
   "cell_type": "code",
   "execution_count": 13,
   "metadata": {},
   "outputs": [
    {
     "data": {
      "text/plain": [
       "6"
      ]
     },
     "execution_count": 13,
     "metadata": {},
     "output_type": "execute_result"
    }
   ],
   "source": [
    "class Demo3:\n",
    "    def add(self,x,y,z):\n",
    "        return x+y+z\n",
    "p1 = Demo3()\n",
    "p1.add(1,2,3)"
   ]
  },
  {
   "cell_type": "code",
   "execution_count": null,
   "metadata": {},
   "outputs": [],
   "source": [
    "# Explore the Class and object in Python\n",
    "# Experiment differnt methods in a class\n",
    "# Take 2 parameters and 3 paramters\n",
    "# return value from method\n",
    "# Don't return the value from the method"
   ]
  }
 ],
 "metadata": {
  "kernelspec": {
   "display_name": "Python 3",
   "language": "python",
   "name": "python3"
  },
  "language_info": {
   "codemirror_mode": {
    "name": "ipython",
    "version": 3
   },
   "file_extension": ".py",
   "mimetype": "text/x-python",
   "name": "python",
   "nbconvert_exporter": "python",
   "pygments_lexer": "ipython3",
   "version": "3.7.4"
  }
 },
 "nbformat": 4,
 "nbformat_minor": 2
}
