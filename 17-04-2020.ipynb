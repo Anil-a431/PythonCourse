{
 "cells": [
  {
   "cell_type": "code",
   "execution_count": 1,
   "metadata": {},
   "outputs": [
    {
     "name": "stdout",
     "output_type": "stream",
     "text": [
      "Data is written\n"
     ]
    }
   ],
   "source": [
    "# Append Data\n",
    "def appendData(fileName):\n",
    "    f = open(fileName,'a')\n",
    "    for i in range(10):\n",
    "        f.write('This is %d line\\n' % i)\n",
    "    print('Data is written')\n",
    "    f.close()\n",
    "    return\n",
    "appendData('Data.txt')"
   ]
  },
  {
   "cell_type": "code",
   "execution_count": 7,
   "metadata": {},
   "outputs": [
    {
     "name": "stdout",
     "output_type": "stream",
     "text": [
      "97\n"
     ]
    }
   ],
   "source": [
    "x = 'a'\n",
    "print(ord(x))"
   ]
  },
  {
   "cell_type": "code",
   "execution_count": null,
   "metadata": {},
   "outputs": [],
   "source": [
    "# Lower case - 97 - 122"
   ]
  },
  {
   "cell_type": "code",
   "execution_count": 6,
   "metadata": {},
   "outputs": [
    {
     "data": {
      "text/plain": [
       "189"
      ]
     },
     "execution_count": 6,
     "metadata": {},
     "output_type": "execute_result"
    }
   ],
   "source": [
    "# Let's define a function for finding the lower case char count\n",
    "def lowerCaseChar(fileName):\n",
    "    cnt = 0\n",
    "    with open(fileName,'r') as f:\n",
    "        if f.mode == 'r':\n",
    "            x = f.read() # read() method will returns a string\n",
    "            # here x is one string\n",
    "            li = list(x) # Which converts the string into seq chars\n",
    "    #for i in range(len(li)):\n",
    "        #if li[i].islower():\n",
    "         #   cnt = cnt + 1\n",
    "    for i in range(len(li)):\n",
    "        if ord(li[i]) >= 97 and ord(li[i]) <= 122:\n",
    "            cnt += 1\n",
    "    return cnt\n",
    "lowerCaseChar('Data.txt')\n"
   ]
  },
  {
   "cell_type": "code",
   "execution_count": 12,
   "metadata": {},
   "outputs": [
    {
     "data": {
      "text/plain": [
       "24"
      ]
     },
     "execution_count": 12,
     "metadata": {},
     "output_type": "execute_result"
    }
   ],
   "source": [
    "# Let's a define a function for finding the number of lines\n",
    "def countNumberLines(fileName):\n",
    "    with open(fileName,'r') as f:\n",
    "        if f.mode == 'r':\n",
    "            s = f.read()\n",
    "            li = s.split('\\n')\n",
    "    return len(li)\n",
    "countNumberLines('Data.txt')"
   ]
  },
  {
   "cell_type": "markdown",
   "metadata": {},
   "source": [
    "### Strings in Python Programming"
   ]
  },
  {
   "cell_type": "code",
   "execution_count": 13,
   "metadata": {},
   "outputs": [
    {
     "name": "stdout",
     "output_type": "stream",
     "text": [
      "a <class 'str'> application <class 'str'>\n"
     ]
    }
   ],
   "source": [
    "s = 'a'\n",
    "s1 = 'application'\n",
    "print(s,type(s),s1,type(s1))"
   ]
  },
  {
   "cell_type": "code",
   "execution_count": 15,
   "metadata": {},
   "outputs": [
    {
     "name": "stdout",
     "output_type": "stream",
     "text": [
      "a p p l i c a t i o n "
     ]
    }
   ],
   "source": [
    "# Print the seq of chars from the string\n",
    "for i in range(len(s1)):\n",
    "    print(s1[i],end = ' ')"
   ]
  },
  {
   "cell_type": "code",
   "execution_count": 16,
   "metadata": {},
   "outputs": [
    {
     "name": "stdout",
     "output_type": "stream",
     "text": [
      "['a', 'p', 'p', 'l', 'i', 'c', 'a', 't', 'i', 'o', 'n']\n"
     ]
    }
   ],
   "source": [
    "# String to List\n",
    "li = []\n",
    "for i in range(len(s1)):\n",
    "    li.append(s1[i])\n",
    "print(li)"
   ]
  },
  {
   "cell_type": "code",
   "execution_count": null,
   "metadata": {},
   "outputs": [],
   "source": [
    "# ord () - Gives the output as number Ascii \n",
    "# ord('a') d- 97\n",
    "# chr() - converts the ascii number to the char"
   ]
  },
  {
   "cell_type": "markdown",
   "metadata": {},
   "source": [
    "### ASCII System\n",
    "- A - Z -- 65 - 90\n",
    "- a - z -- 97 - 122\n",
    "- 0 - 9 -- 48 - 57\n",
    "- space -- 32"
   ]
  },
  {
   "cell_type": "code",
   "execution_count": 19,
   "metadata": {},
   "outputs": [
    {
     "name": "stdout",
     "output_type": "stream",
     "text": [
      "a 97 A 65\n"
     ]
    }
   ],
   "source": [
    "s = 'a'\n",
    "s1 = 'A'\n",
    "print(s,ord(s),s1,ord(s1))"
   ]
  },
  {
   "cell_type": "code",
   "execution_count": 20,
   "metadata": {},
   "outputs": [
    {
     "name": "stdout",
     "output_type": "stream",
     "text": [
      "a b c d e f g h i j k l m n o p q r s t u v w x y z "
     ]
    }
   ],
   "source": [
    "for i in range(97,123):\n",
    "    print(chr(i),end = ' ')"
   ]
  },
  {
   "cell_type": "code",
   "execution_count": 21,
   "metadata": {},
   "outputs": [
    {
     "name": "stdout",
     "output_type": "stream",
     "text": [
      "A B C D E F G H I J K L M N O P Q R S T U V W X Y Z "
     ]
    }
   ],
   "source": [
    "for i in range(65,91):\n",
    "    print(chr(i),end = ' ')"
   ]
  },
  {
   "cell_type": "code",
   "execution_count": 22,
   "metadata": {},
   "outputs": [
    {
     "name": "stdout",
     "output_type": "stream",
     "text": [
      "0 1 2 3 4 5 6 7 8 9 "
     ]
    }
   ],
   "source": [
    "for i in range(48,58):\n",
    "    print(chr(i),end = ' ')"
   ]
  },
  {
   "cell_type": "markdown",
   "metadata": {},
   "source": [
    "### String Programs"
   ]
  },
  {
   "cell_type": "code",
   "execution_count": 25,
   "metadata": {},
   "outputs": [
    {
     "data": {
      "text/plain": [
       "'dHYAnAHitA'"
      ]
     },
     "execution_count": 25,
     "metadata": {},
     "output_type": "execute_result"
    }
   ],
   "source": [
    "# Read the input as string and change the input case\n",
    "# Input :  DhyaNahITa\n",
    "# Output : dHYAnAHitA\n",
    "def changeCase(s):\n",
    "    # Body for the function\n",
    "    s1 = ''\n",
    "    for i in range(len(s)):\n",
    "        if ord(s[i]) >= 65 and ord(s[i]) <= 90:\n",
    "            s1 += chr(ord(s[i]) + 32)\n",
    "        elif ord(s[i]) >= 97 and ord(s[i]) <= 122:\n",
    "            s1 += chr(ord(s[i]) - 32)\n",
    "    \n",
    "    return s1\n",
    "changeCase('DhyaNahITa') #dHYAnAHitA "
   ]
  },
  {
   "cell_type": "code",
   "execution_count": 20,
   "metadata": {},
   "outputs": [
    {
     "name": "stdout",
     "output_type": "stream",
     "text": [
      "a\n"
     ]
    }
   ],
   "source": [
    "s = 'A'\n",
    "s = chr(ord(s) + 32)\n",
    "print(s)"
   ]
  },
  {
   "cell_type": "code",
   "execution_count": 35,
   "metadata": {},
   "outputs": [
    {
     "data": {
      "text/plain": [
       "26"
      ]
     },
     "execution_count": 35,
     "metadata": {},
     "output_type": "execute_result"
    }
   ],
   "source": [
    "# Read the input as string and Print the sum of the digits\n",
    "# Dhy1ah8h8it9a -- 26 ( 1 + 8 + 8 + 9)\n",
    "def digitSum(s):\n",
    "    sum = 0\n",
    "    for i in range(len(s)):\n",
    "        if ord(s[i]) >= 48 and ord(s[i]) <= 57:\n",
    "            sum += (ord(s[i])-48) #Converts the ascii number to decimal format\n",
    "    return sum\n",
    "                         \n",
    "digitSum('Dhy1ah8h8it9a') # 26"
   ]
  },
  {
   "cell_type": "code",
   "execution_count": null,
   "metadata": {},
   "outputs": [],
   "source": []
  }
 ],
 "metadata": {
  "kernelspec": {
   "display_name": "Python 3",
   "language": "python",
   "name": "python3"
  },
  "language_info": {
   "codemirror_mode": {
    "name": "ipython",
    "version": 3
   },
   "file_extension": ".py",
   "mimetype": "text/x-python",
   "name": "python",
   "nbconvert_exporter": "python",
   "pygments_lexer": "ipython3",
   "version": "3.7.4"
  }
 },
 "nbformat": 4,
 "nbformat_minor": 2
}
